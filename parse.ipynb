{
 "cells": [
  {
   "cell_type": "code",
   "execution_count": 37,
   "id": "considered-capture",
   "metadata": {},
   "outputs": [],
   "source": [
    "import json\n",
    "import pyproj\n",
    "import numpy\n",
    "\n",
    "proj = pyproj.Transformer.from_crs(4326, 3395, always_xy=False)\n",
    "\n",
    "def normalize_v3(arr):\n",
    "    ''' Normalize a numpy array of 3 component vectors shape=(n,3) '''\n",
    "    lens = numpy.sqrt( arr[:,0]**2 + arr[:,1]**2 + arr[:,2]**2 )\n",
    "    arr[:,0] /= lens\n",
    "    arr[:,1] /= lens\n",
    "    arr[:,2] /= lens                \n",
    "    return arr"
   ]
  },
  {
   "cell_type": "code",
   "execution_count": 2,
   "id": "understanding-extreme",
   "metadata": {},
   "outputs": [],
   "source": [
    "ff = json.loads(open('park_slope.json').read())"
   ]
  },
  {
   "cell_type": "code",
   "execution_count": 62,
   "id": "impressed-abuse",
   "metadata": {},
   "outputs": [],
   "source": []
  },
  {
   "cell_type": "code",
   "execution_count": 63,
   "id": "impressed-robertson",
   "metadata": {},
   "outputs": [],
   "source": []
  },
  {
   "cell_type": "code",
   "execution_count": 64,
   "id": "impossible-liberia",
   "metadata": {},
   "outputs": [],
   "source": []
  },
  {
   "cell_type": "code",
   "execution_count": 115,
   "id": "patient-mercy",
   "metadata": {},
   "outputs": [
    {
     "name": "stdout",
     "output_type": "stream",
     "text": [
      "[-8235610.987445664, 4935998.989271286, 0]\n"
     ]
    }
   ],
   "source": [
    "buildings = {}\n",
    "centroid = [0,0]\n",
    "for layer in ff['layers']:\n",
    "    if layer['id'] == 'buildings':\n",
    "        coordinates = []\n",
    "        indices = []\n",
    "        nverts = 0\n",
    "        centroid = [0,0]\n",
    "        size=0\n",
    "        for pp in layer['data']:\n",
    "            coord = pp['geometry']['coordinates']\n",
    "            for i in range(0,len(coord),3):\n",
    "                x,y = proj.transform(coord[i],coord[i+1])\n",
    "                centroid[0]+=x\n",
    "                centroid[1]+=y\n",
    "                size+=1\n",
    "        centroid = [centroid[0]/size,centroid[1]/size,0]\n",
    "        print(centroid)\n",
    "            \n",
    "        for pp in layer['data']:\n",
    "            coord = pp['geometry']['coordinates']\n",
    "            ind = pp['geometry']['indices']\n",
    "            size = len(coord)\n",
    "            summ = [0,0]\n",
    "            for i in range(0,len(coord),3):\n",
    "                x,y = proj.transform(coord[i],coord[i+1])\n",
    "                coordinates.append([x-centroid[0],y-centroid[1],coord[i+2]])\n",
    "            \n",
    "            for i in range(0,len(ind),3):\n",
    "                globalindex0 = int(ind[i]+nverts)\n",
    "                globalindex1 = int(ind[i+1]+nverts)\n",
    "                globalindex2 = int(ind[i+2]+nverts)\n",
    "                indices.append([globalindex0,globalindex1,globalindex2])\n",
    "            nverts+=(size/3)\n",
    "        \n",
    "        coordinates = numpy.array(coordinates)\n",
    "        indices = numpy.array(indices)\n",
    "        norm = numpy.zeros( coordinates.shape, dtype=coordinates.dtype )\n",
    "        tris = coordinates[indices]\n",
    "        n = numpy.cross( tris[::,1 ] - tris[::,0]  , tris[::,2 ] - tris[::,0] )\n",
    "        normalize_v3(n)\n",
    "        norm[ indices[:,0] ] += n\n",
    "        norm[ indices[:,1] ] += n\n",
    "        norm[ indices[:,2] ] += n\n",
    "        norm = normalize_v3(norm)\n",
    "        norm = numpy.nan_to_num(norm)\n",
    "        \n",
    "        buildings['coordinates'] = coordinates.flatten().tolist()\n",
    "        buildings['indices'] = indices.flatten().tolist()\n",
    "        buildings['normals'] = norm.flatten().tolist()\n",
    "        buildings['color'] = [0.5,0.6,0.9, 1]"
   ]
  },
  {
   "cell_type": "code",
   "execution_count": 112,
   "id": "juvenile-cuisine",
   "metadata": {},
   "outputs": [],
   "source": [
    "water = {}\n",
    "for layer in ff['layers']:\n",
    "    if layer['id'] == 'water':\n",
    "        coordinates = []\n",
    "        indices = []\n",
    "        nverts = 0\n",
    "        for pp in layer['data']:\n",
    "            coord = pp['geometry']['coordinates']\n",
    "            ind = pp['geometry']['indices']\n",
    "            size = len(coord)\n",
    "            for i in range(0,len(coord),2):\n",
    "                x,y = proj.transform(coord[i],coord[i+1])\n",
    "                coordinates.append(x-centroid[0])\n",
    "                coordinates.append(y-centroid[1])\n",
    "                coordinates.append(1)\n",
    "            for i in range(0,len(ind),3):\n",
    "                globalindex0 = int(ind[i]+nverts)\n",
    "                globalindex1 = int(ind[i+1]+nverts)\n",
    "                globalindex2 = int(ind[i+2]+nverts)\n",
    "                # invert normal\n",
    "                indices.append(globalindex0)\n",
    "                indices.append(globalindex2)\n",
    "                indices.append(globalindex1)\n",
    "            nverts+=(size/2)\n",
    "        water['coordinates'] = coordinates\n",
    "        water['indices'] = indices\n",
    "        water['color'] = [185/255,205/255,210/255,1.0]"
   ]
  },
  {
   "cell_type": "code",
   "execution_count": 111,
   "id": "bulgarian-solomon",
   "metadata": {},
   "outputs": [],
   "source": [
    "park = {}\n",
    "for layer in ff['layers']:\n",
    "    if layer['id'] == 'parks':\n",
    "        coordinates = []\n",
    "        indices = []\n",
    "        nverts = 0\n",
    "        for pp in layer['data']:\n",
    "            coord = pp['geometry']['coordinates']\n",
    "            ind = pp['geometry']['indices']\n",
    "            size = len(coord)\n",
    "            for i in range(0,len(coord),2):\n",
    "                x,y = proj.transform(coord[i],coord[i+1])\n",
    "                coordinates.append(x-centroid[0])\n",
    "                coordinates.append(y-centroid[1])\n",
    "                coordinates.append(2)\n",
    "            for i in range(0,len(ind),3):\n",
    "                globalindex0 = int(ind[i]+nverts)\n",
    "                globalindex1 = int(ind[i+1]+nverts)\n",
    "                globalindex2 = int(ind[i+2]+nverts)\n",
    "                # invert normal\n",
    "                indices.append(globalindex0)\n",
    "                indices.append(globalindex2)\n",
    "                indices.append(globalindex1)\n",
    "            nverts+=(size/2)\n",
    "        park['coordinates'] = coordinates\n",
    "        park['indices'] = indices\n",
    "        park['color'] = [195/255,208/255,178/255,1.0]"
   ]
  },
  {
   "cell_type": "code",
   "execution_count": 110,
   "id": "brave-blind",
   "metadata": {},
   "outputs": [],
   "source": [
    "surface = {}\n",
    "for layer in ff['layers']:\n",
    "    if layer['id'] == 'surface':\n",
    "        coordinates = layer['data'][0]['geometry']['coordinates']\n",
    "        ind = layer['data'][0]['geometry']['indices']\n",
    "        indices = []\n",
    "        aux = []\n",
    "        for i in range(0,len(coordinates),2):\n",
    "            x,y = proj.transform(coordinates[i],coordinates[i+1])\n",
    "            aux.append(x-centroid[0])\n",
    "            aux.append(y-centroid[1])\n",
    "            aux.append(-5)\n",
    "        for i in range(0,len(ind),3):\n",
    "            index0 = int(ind[i])\n",
    "            index1 = int(ind[i+1])\n",
    "            index2 = int(ind[i+2])\n",
    "            # invert normal\n",
    "            indices.append(index0)\n",
    "            indices.append(index2)\n",
    "            indices.append(index1)\n",
    "        surface['coordinates'] = aux\n",
    "        surface['indices'] = indices\n",
    "        surface['color'] = [238/255,238/255,238/255,1.0]"
   ]
  },
  {
   "cell_type": "code",
   "execution_count": 116,
   "id": "synthetic-maple",
   "metadata": {},
   "outputs": [],
   "source": [
    "out = {}\n",
    "out['buildings'] = buildings\n",
    "out['water'] = water\n",
    "out['parks'] = park\n",
    "out['surface'] = surface\n",
    "with open('city.json', 'w') as f:\n",
    "    json.dump(out, f)"
   ]
  }
 ],
 "metadata": {
  "kernelspec": {
   "display_name": "Python 3",
   "language": "python",
   "name": "python3"
  },
  "language_info": {
   "codemirror_mode": {
    "name": "ipython",
    "version": 3
   },
   "file_extension": ".py",
   "mimetype": "text/x-python",
   "name": "python",
   "nbconvert_exporter": "python",
   "pygments_lexer": "ipython3",
   "version": "3.9.1"
  }
 },
 "nbformat": 4,
 "nbformat_minor": 5
}
